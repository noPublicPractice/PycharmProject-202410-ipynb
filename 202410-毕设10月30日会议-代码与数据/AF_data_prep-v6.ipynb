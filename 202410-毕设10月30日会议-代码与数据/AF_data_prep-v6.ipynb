{
 "cells": [
  {
   "cell_type": "markdown",
   "id": "15b9f9f6-4eae-4ce3-bc44-dfc106a67ecc",
   "metadata": {},
   "source": [
    "# 房颤合集"
   ]
  },
  {
   "cell_type": "markdown",
   "id": "7249411c-1bd6-4f99-ae25-1649d12c1f05",
   "metadata": {},
   "source": [
    "# with leaking feature removal\n",
    "# with ICD9 code included\n",
    "# with updated common data preparation"
   ]
  },
  {
   "cell_type": "code",
   "execution_count": 1,
   "id": "ba7c7f2f-1f29-420e-8fdf-fd443bec2970",
   "metadata": {},
   "outputs": [],
   "source": [
    "import pandas as pd"
   ]
  },
  {
   "cell_type": "code",
   "execution_count": 2,
   "id": "42c20911-38db-4734-ba52-1982880695c4",
   "metadata": {},
   "outputs": [],
   "source": [
    "import numpy as np"
   ]
  },
  {
   "cell_type": "code",
   "execution_count": 3,
   "id": "56471715-d42d-4f12-9610-a449a4da44ad",
   "metadata": {},
   "outputs": [],
   "source": [
    "from datetime import datetime"
   ]
  },
  {
   "cell_type": "code",
   "execution_count": 4,
   "id": "58e8561e-2064-45e7-a6d8-8669d5b151f0",
   "metadata": {},
   "outputs": [],
   "source": [
    "from sklearn.utils import shuffle"
   ]
  },
  {
   "cell_type": "markdown",
   "id": "dafde75a-8aa8-4e10-88d4-7b18931c19ac",
   "metadata": {},
   "source": [
    "# Load data\n",
    "## 经处理后电子病历信息数据集,包含生成训练测试集所需特征信息"
   ]
  },
  {
   "cell_type": "code",
   "execution_count": 9,
   "id": "d243e2b1-a349-4724-8880-56ff2848206e",
   "metadata": {},
   "outputs": [],
   "source": [
    "df_data = pd.read_pickle('../data/processed_mimic/df_admin_pat_surgery_diag_lab.pkl')"
   ]
  },
  {
   "cell_type": "code",
   "execution_count": 10,
   "id": "afee6bd4-a180-4b2b-82ac-5cebb162720c",
   "metadata": {},
   "outputs": [
    {
     "data": {
      "text/html": [
       "<div>\n",
       "<style scoped>\n",
       "    .dataframe tbody tr th:only-of-type {\n",
       "        vertical-align: middle;\n",
       "    }\n",
       "\n",
       "    .dataframe tbody tr th {\n",
       "        vertical-align: top;\n",
       "    }\n",
       "\n",
       "    .dataframe thead th {\n",
       "        text-align: right;\n",
       "    }\n",
       "</style>\n",
       "<table border=\"1\" class=\"dataframe\">\n",
       "  <thead>\n",
       "    <tr style=\"text-align: right;\">\n",
       "      <th></th>\n",
       "      <th>PATIENTID</th>\n",
       "      <th>STAYID</th>\n",
       "      <th>ADMISSION_TIME</th>\n",
       "      <th>DISCHARGE_TIME</th>\n",
       "      <th>ADMISSION_TYPE</th>\n",
       "      <th>ADMISSION_LOCATION</th>\n",
       "      <th>INSURANCE</th>\n",
       "      <th>LANGUAGE</th>\n",
       "      <th>MARITAL_STATUS</th>\n",
       "      <th>RACE</th>\n",
       "      <th>AGE_GROUP</th>\n",
       "      <th>GENDER</th>\n",
       "      <th>ADMISSION_YEAR_GROUP</th>\n",
       "      <th>SURGERY_HISTORY</th>\n",
       "      <th>DIAGNOSIS_HISTORY</th>\n",
       "      <th>LAB_RESULT</th>\n",
       "    </tr>\n",
       "  </thead>\n",
       "  <tbody>\n",
       "    <tr>\n",
       "      <th>0</th>\n",
       "      <td>10000032</td>\n",
       "      <td>22595853</td>\n",
       "      <td>2180-05-06 22:23:00</td>\n",
       "      <td>2180-05-07 17:15:00</td>\n",
       "      <td>adm_typ_urgent</td>\n",
       "      <td>adm_loc_transfer_from_hospital</td>\n",
       "      <td>ins_other</td>\n",
       "      <td>lan_other</td>\n",
       "      <td>ms_widowed</td>\n",
       "      <td>race_white</td>\n",
       "      <td>age_group_5</td>\n",
       "      <td>gender_f</td>\n",
       "      <td>2014 - 2016</td>\n",
       "      <td></td>\n",
       "      <td></td>\n",
       "      <td>NaN</td>\n",
       "    </tr>\n",
       "    <tr>\n",
       "      <th>1</th>\n",
       "      <td>10000032</td>\n",
       "      <td>22841357</td>\n",
       "      <td>2180-06-26 18:27:00</td>\n",
       "      <td>2180-06-27 18:49:00</td>\n",
       "      <td>adm_typ_ew_emer_</td>\n",
       "      <td>adm_loc_emergency_room</td>\n",
       "      <td>ins_medicaid</td>\n",
       "      <td>lan_other</td>\n",
       "      <td>ms_widowed</td>\n",
       "      <td>race_white</td>\n",
       "      <td>age_group_5</td>\n",
       "      <td>gender_f</td>\n",
       "      <td>2014 - 2016</td>\n",
       "      <td>icd_9_5491</td>\n",
       "      <td>icd_9_07070, icd_9_29680, icd_9_30981, icd_9_4...</td>\n",
       "      <td>lab_bilirubin_normal,lab_blood_normal,lab_gluc...</td>\n",
       "    </tr>\n",
       "    <tr>\n",
       "      <th>2</th>\n",
       "      <td>10000032</td>\n",
       "      <td>25742920</td>\n",
       "      <td>2180-08-05 23:44:00</td>\n",
       "      <td>2180-08-07 17:50:00</td>\n",
       "      <td>adm_typ_ew_emer_</td>\n",
       "      <td>adm_loc_emergency_room</td>\n",
       "      <td>ins_medicaid</td>\n",
       "      <td>lan_other</td>\n",
       "      <td>ms_widowed</td>\n",
       "      <td>race_white</td>\n",
       "      <td>age_group_5</td>\n",
       "      <td>gender_f</td>\n",
       "      <td>2014 - 2016</td>\n",
       "      <td>icd_9_5491</td>\n",
       "      <td>icd_9_07044, icd_9_07070, icd_9_07071, icd_9_2...</td>\n",
       "      <td>NaN</td>\n",
       "    </tr>\n",
       "    <tr>\n",
       "      <th>3</th>\n",
       "      <td>10000032</td>\n",
       "      <td>29079034</td>\n",
       "      <td>2180-07-23 12:35:00</td>\n",
       "      <td>2180-07-25 17:55:00</td>\n",
       "      <td>adm_typ_ew_emer_</td>\n",
       "      <td>adm_loc_emergency_room</td>\n",
       "      <td>ins_medicaid</td>\n",
       "      <td>lan_other</td>\n",
       "      <td>ms_widowed</td>\n",
       "      <td>race_white</td>\n",
       "      <td>age_group_5</td>\n",
       "      <td>gender_f</td>\n",
       "      <td>2014 - 2016</td>\n",
       "      <td>NaN</td>\n",
       "      <td>icd_9_07070, icd_9_07071, icd_9_2761, icd_9_28...</td>\n",
       "      <td>lab_anion_gap_normal,lab_bicarbonate_abnormal,...</td>\n",
       "    </tr>\n",
       "    <tr>\n",
       "      <th>4</th>\n",
       "      <td>10000068</td>\n",
       "      <td>25022803</td>\n",
       "      <td>2160-03-03 23:16:00</td>\n",
       "      <td>2160-03-04 06:26:00</td>\n",
       "      <td>adm_typ_eu_observation</td>\n",
       "      <td>adm_loc_emergency_room</td>\n",
       "      <td>ins_other</td>\n",
       "      <td>lan_other</td>\n",
       "      <td>ms_single</td>\n",
       "      <td>race_white</td>\n",
       "      <td>age_group_2</td>\n",
       "      <td>gender_f</td>\n",
       "      <td>2008 - 2010</td>\n",
       "      <td></td>\n",
       "      <td></td>\n",
       "      <td>NaN</td>\n",
       "    </tr>\n",
       "  </tbody>\n",
       "</table>\n",
       "</div>"
      ],
      "text/plain": [
       "   PATIENTID    STAYID      ADMISSION_TIME       DISCHARGE_TIME  \\\n",
       "0   10000032  22595853 2180-05-06 22:23:00  2180-05-07 17:15:00   \n",
       "1   10000032  22841357 2180-06-26 18:27:00  2180-06-27 18:49:00   \n",
       "2   10000032  25742920 2180-08-05 23:44:00  2180-08-07 17:50:00   \n",
       "3   10000032  29079034 2180-07-23 12:35:00  2180-07-25 17:55:00   \n",
       "4   10000068  25022803 2160-03-03 23:16:00  2160-03-04 06:26:00   \n",
       "\n",
       "           ADMISSION_TYPE              ADMISSION_LOCATION     INSURANCE  \\\n",
       "0          adm_typ_urgent  adm_loc_transfer_from_hospital     ins_other   \n",
       "1        adm_typ_ew_emer_          adm_loc_emergency_room  ins_medicaid   \n",
       "2        adm_typ_ew_emer_          adm_loc_emergency_room  ins_medicaid   \n",
       "3        adm_typ_ew_emer_          adm_loc_emergency_room  ins_medicaid   \n",
       "4  adm_typ_eu_observation          adm_loc_emergency_room     ins_other   \n",
       "\n",
       "    LANGUAGE MARITAL_STATUS        RACE    AGE_GROUP    GENDER  \\\n",
       "0  lan_other     ms_widowed  race_white  age_group_5  gender_f   \n",
       "1  lan_other     ms_widowed  race_white  age_group_5  gender_f   \n",
       "2  lan_other     ms_widowed  race_white  age_group_5  gender_f   \n",
       "3  lan_other     ms_widowed  race_white  age_group_5  gender_f   \n",
       "4  lan_other      ms_single  race_white  age_group_2  gender_f   \n",
       "\n",
       "  ADMISSION_YEAR_GROUP SURGERY_HISTORY  \\\n",
       "0          2014 - 2016                   \n",
       "1          2014 - 2016      icd_9_5491   \n",
       "2          2014 - 2016      icd_9_5491   \n",
       "3          2014 - 2016             NaN   \n",
       "4          2008 - 2010                   \n",
       "\n",
       "                                   DIAGNOSIS_HISTORY  \\\n",
       "0                                                      \n",
       "1  icd_9_07070, icd_9_29680, icd_9_30981, icd_9_4...   \n",
       "2  icd_9_07044, icd_9_07070, icd_9_07071, icd_9_2...   \n",
       "3  icd_9_07070, icd_9_07071, icd_9_2761, icd_9_28...   \n",
       "4                                                      \n",
       "\n",
       "                                          LAB_RESULT  \n",
       "0                                                NaN  \n",
       "1  lab_bilirubin_normal,lab_blood_normal,lab_gluc...  \n",
       "2                                                NaN  \n",
       "3  lab_anion_gap_normal,lab_bicarbonate_abnormal,...  \n",
       "4                                                NaN  "
      ]
     },
     "execution_count": 10,
     "metadata": {},
     "output_type": "execute_result"
    }
   ],
   "source": [
    "df_data.head()"
   ]
  },
  {
   "cell_type": "code",
   "execution_count": 11,
   "id": "c653df0d-ef03-444f-a898-970aed9c094a",
   "metadata": {},
   "outputs": [
    {
     "data": {
      "text/plain": [
       "431231"
      ]
     },
     "execution_count": 11,
     "metadata": {},
     "output_type": "execute_result"
    }
   ],
   "source": [
    "df_data.STAYID.nunique()"
   ]
  },
  {
   "cell_type": "markdown",
   "id": "a8c243f2-3bbc-4ee4-b22a-c132ee583315",
   "metadata": {},
   "source": [
    "## 暂时基于以上信息作为模型训练特征"
   ]
  },
  {
   "cell_type": "markdown",
   "id": "2cecc918-4d78-4343-ae77-baac0b26653e",
   "metadata": {},
   "source": [
    "## 训练集准备"
   ]
  },
  {
   "cell_type": "code",
   "execution_count": 8,
   "id": "49dde964-faaf-4c39-b0fa-bb456f782846",
   "metadata": {},
   "outputs": [],
   "source": [
    "features_training = [\n",
    "    'STAYID',\n",
    "    'GENDER',\n",
    "    'AGE_GROUP',\n",
    "    'ADMISSION_TYPE',\n",
    "    'DIAGNOSIS_HISTORY',\n",
    "    'SURGERY_HISTORY',\n",
    "    'LAB_RESULT',\n",
    "    'ADMISSION_LOCATION',\n",
    "    'INSURANCE',\n",
    "    'LANGUAGE',\n",
    "    'MARITAL_STATUS',\n",
    "    'RACE'\n",
    "    ]      "
   ]
  },
  {
   "cell_type": "code",
   "execution_count": null,
   "id": "d61711c9-7bd2-4c58-9b68-50bc2161564c",
   "metadata": {},
   "outputs": [],
   "source": []
  },
  {
   "cell_type": "markdown",
   "id": "1afc0d8d-7555-47de-90af-5bf515c3a0bf",
   "metadata": {},
   "source": [
    "## 训练集准备"
   ]
  },
  {
   "cell_type": "code",
   "execution_count": 14,
   "id": "bc980103-b7fc-42da-b59c-7949c91df312",
   "metadata": {},
   "outputs": [],
   "source": [
    "## instance of diagnosis\n",
    "\n",
    "df_diagnoses = pd.read_csv('../data/mimic-iv-2.2/hosp/diagnoses_icd.csv.gz')"
   ]
  },
  {
   "cell_type": "code",
   "execution_count": 15,
   "id": "70592346-3221-462b-9133-7030c2d01a7d",
   "metadata": {},
   "outputs": [],
   "source": [
    "## 诊断码\n",
    "df_d_icd_diagnoses = pd.read_csv('../data/mimic-iv-2.2/hosp/d_icd_diagnoses.csv.gz')"
   ]
  },
  {
   "cell_type": "code",
   "execution_count": null,
   "id": "bd057273-821a-4938-b672-b0e4cf6df67c",
   "metadata": {},
   "outputs": [],
   "source": []
  },
  {
   "cell_type": "code",
   "execution_count": 16,
   "id": "f6a3be84-d449-473b-bf39-daa8b6ceca5e",
   "metadata": {},
   "outputs": [],
   "source": [
    "#定义预测对象\n",
    "use_case = 'AF4'\n",
    "\n",
    "#定义预测相关编码\n",
    "\n",
    "# 基于ICD10 编码系统\n",
    "df_d_icd_10 = df_d_icd_diagnoses[df_d_icd_diagnoses.icd_code.str.contains('I48')]\n",
    "\n",
    "# 基于ICD9 编码系统\n",
    "df_d_icd_9 = df_d_icd_diagnoses[df_d_icd_diagnoses.icd_version==9]\n",
    "df_d_icd_9 = df_d_icd_9[df_d_icd_9.icd_code.str.startswith('42731')]\n",
    "\n",
    "#合并两种编码系统\n",
    "df_d_icd = pd.concat([df_d_icd_10, df_d_icd_9], axis=0, ignore_index=True)"
   ]
  },
  {
   "cell_type": "code",
   "execution_count": 18,
   "id": "771c96c1-1599-4095-b018-99194f37d981",
   "metadata": {},
   "outputs": [],
   "source": [
    "# 对于历史诊断码中包含与诊断码相同的特征, 将其从历史诊断码中移除\n",
    "\n",
    "def remove_leaking_feature(value):\n",
    "    if pd.isna(value):\n",
    "        return value\n",
    "    # 分割字符串为列表\n",
    "    elements = value.split(',')\n",
    "    # 移除包含'C22', 'C23', 'C24'的元素\n",
    "    filtered_elements = [el for el in elements if not any(code in el for code in ['i48','icd_9_42731'])]\n",
    "    return ','.join(filtered_elements)\n",
    "\n",
    "# 应用函数到ICD_HISTORICAL列\n",
    "df_data['DIAGNOSIS_HISTORY'] = df_data['DIAGNOSIS_HISTORY'].apply(remove_leaking_feature)\n"
   ]
  },
  {
   "cell_type": "code",
   "execution_count": 20,
   "id": "abd27b6e-d817-446b-98dd-22a4ec5442f3",
   "metadata": {},
   "outputs": [
    {
     "data": {
      "text/html": [
       "<div>\n",
       "<style scoped>\n",
       "    .dataframe tbody tr th:only-of-type {\n",
       "        vertical-align: middle;\n",
       "    }\n",
       "\n",
       "    .dataframe tbody tr th {\n",
       "        vertical-align: top;\n",
       "    }\n",
       "\n",
       "    .dataframe thead th {\n",
       "        text-align: right;\n",
       "    }\n",
       "</style>\n",
       "<table border=\"1\" class=\"dataframe\">\n",
       "  <thead>\n",
       "    <tr style=\"text-align: right;\">\n",
       "      <th></th>\n",
       "      <th>PATIENTID</th>\n",
       "      <th>STAYID</th>\n",
       "      <th>ADMISSION_TIME</th>\n",
       "      <th>DISCHARGE_TIME</th>\n",
       "      <th>ADMISSION_TYPE</th>\n",
       "      <th>ADMISSION_LOCATION</th>\n",
       "      <th>INSURANCE</th>\n",
       "      <th>LANGUAGE</th>\n",
       "      <th>MARITAL_STATUS</th>\n",
       "      <th>RACE</th>\n",
       "      <th>AGE_GROUP</th>\n",
       "      <th>GENDER</th>\n",
       "      <th>ADMISSION_YEAR_GROUP</th>\n",
       "      <th>SURGERY_HISTORY</th>\n",
       "      <th>DIAGNOSIS_HISTORY</th>\n",
       "      <th>LAB_RESULT</th>\n",
       "    </tr>\n",
       "  </thead>\n",
       "  <tbody>\n",
       "  </tbody>\n",
       "</table>\n",
       "</div>"
      ],
      "text/plain": [
       "Empty DataFrame\n",
       "Columns: [PATIENTID, STAYID, ADMISSION_TIME, DISCHARGE_TIME, ADMISSION_TYPE, ADMISSION_LOCATION, INSURANCE, LANGUAGE, MARITAL_STATUS, RACE, AGE_GROUP, GENDER, ADMISSION_YEAR_GROUP, SURGERY_HISTORY, DIAGNOSIS_HISTORY, LAB_RESULT]\n",
       "Index: []"
      ]
     },
     "execution_count": 20,
     "metadata": {},
     "output_type": "execute_result"
    }
   ],
   "source": [
    "#确保特征已经移除\n",
    "df_data[df_data.DIAGNOSIS_HISTORY.str.contains('i48',na=False)]"
   ]
  },
  {
   "cell_type": "code",
   "execution_count": null,
   "id": "45cfbddc-cd67-474a-8763-4b5af9327755",
   "metadata": {},
   "outputs": [],
   "source": []
  },
  {
   "cell_type": "markdown",
   "id": "5d247261-be5d-4d11-b902-de80c49743e5",
   "metadata": {},
   "source": [
    "### 病人诊断"
   ]
  },
  {
   "cell_type": "code",
   "execution_count": 21,
   "id": "a2a86d13-bc38-42b0-9efb-dbb7a3a4cb35",
   "metadata": {},
   "outputs": [
    {
     "data": {
      "text/plain": [
       "62282"
      ]
     },
     "execution_count": 21,
     "metadata": {},
     "output_type": "execute_result"
    }
   ],
   "source": [
    "df_diagnoses_disease = df_diagnoses[df_diagnoses.icd_code.isin(df_d_icd.icd_code)]\n",
    "len(df_diagnoses_disease)"
   ]
  },
  {
   "cell_type": "code",
   "execution_count": 22,
   "id": "dd32d900-2bc1-48be-9ea6-6b386186461f",
   "metadata": {},
   "outputs": [
    {
     "data": {
      "text/plain": [
       "26674"
      ]
     },
     "execution_count": 22,
     "metadata": {},
     "output_type": "execute_result"
    }
   ],
   "source": [
    "df_diagnoses_disease.subject_id.nunique()"
   ]
  },
  {
   "cell_type": "code",
   "execution_count": 23,
   "id": "e7b81b5d-cd94-41ad-b8ea-6ea9989542a3",
   "metadata": {},
   "outputs": [],
   "source": [
    "df_diagnoses_disease = df_diagnoses_disease[['subject_id','hadm_id']]"
   ]
  },
  {
   "cell_type": "code",
   "execution_count": 24,
   "id": "ad068644-1052-488c-b41f-f4c547357532",
   "metadata": {},
   "outputs": [],
   "source": [
    "df_diagnoses_disease.columns=['PATIENTID','STAYID']"
   ]
  },
  {
   "cell_type": "code",
   "execution_count": 25,
   "id": "0c5387a0-8090-4802-853b-d16a32feca16",
   "metadata": {},
   "outputs": [
    {
     "data": {
      "text/html": [
       "<div>\n",
       "<style scoped>\n",
       "    .dataframe tbody tr th:only-of-type {\n",
       "        vertical-align: middle;\n",
       "    }\n",
       "\n",
       "    .dataframe tbody tr th {\n",
       "        vertical-align: top;\n",
       "    }\n",
       "\n",
       "    .dataframe thead th {\n",
       "        text-align: right;\n",
       "    }\n",
       "</style>\n",
       "<table border=\"1\" class=\"dataframe\">\n",
       "  <thead>\n",
       "    <tr style=\"text-align: right;\">\n",
       "      <th></th>\n",
       "      <th>PATIENTID</th>\n",
       "      <th>STAYID</th>\n",
       "    </tr>\n",
       "  </thead>\n",
       "  <tbody>\n",
       "    <tr>\n",
       "      <th>577</th>\n",
       "      <td>10001667</td>\n",
       "      <td>22672901</td>\n",
       "    </tr>\n",
       "    <tr>\n",
       "      <th>614</th>\n",
       "      <td>10001843</td>\n",
       "      <td>21728396</td>\n",
       "    </tr>\n",
       "    <tr>\n",
       "      <th>624</th>\n",
       "      <td>10001860</td>\n",
       "      <td>21441082</td>\n",
       "    </tr>\n",
       "    <tr>\n",
       "      <th>634</th>\n",
       "      <td>10001877</td>\n",
       "      <td>21320596</td>\n",
       "    </tr>\n",
       "    <tr>\n",
       "      <th>646</th>\n",
       "      <td>10001877</td>\n",
       "      <td>25679292</td>\n",
       "    </tr>\n",
       "  </tbody>\n",
       "</table>\n",
       "</div>"
      ],
      "text/plain": [
       "     PATIENTID    STAYID\n",
       "577   10001667  22672901\n",
       "614   10001843  21728396\n",
       "624   10001860  21441082\n",
       "634   10001877  21320596\n",
       "646   10001877  25679292"
      ]
     },
     "execution_count": 25,
     "metadata": {},
     "output_type": "execute_result"
    }
   ],
   "source": [
    "df_diagnoses_disease.head()"
   ]
  },
  {
   "cell_type": "code",
   "execution_count": 26,
   "id": "e98dcb7b-4267-4ae5-a801-65a94f04fd05",
   "metadata": {},
   "outputs": [],
   "source": [
    "#保存疾病诊断相关信息\n",
    "\n",
    "diagnosis_path = 'df_diagnoses_' + use_case + '.csv'\n",
    "\n",
    "df_diagnoses_disease.to_csv(diagnosis_path,sep=';',index=False)"
   ]
  },
  {
   "cell_type": "code",
   "execution_count": 27,
   "id": "c3cc394e-5678-4dad-a457-cddbaacc6146",
   "metadata": {},
   "outputs": [],
   "source": [
    "#生成训练及测试数据集\n",
    "\n",
    "def create_train_test(df_processed,use_case,df_diag_positive):\n",
    "    df_case = df_processed[df_processed.STAYID.isin(df_diag_positive.STAYID)]\n",
    "    df_case[use_case] = 1\n",
    "    df_control = df_processed[~df_processed.PATIENTID.isin(df_diag_positive.PATIENTID)]\n",
    "    df_control[use_case] = 0\n",
    "\n",
    "    df_labelled = pd.concat([df_case, df_control])\n",
    "\n",
    "    # Shuffle the patient IDs\n",
    "    IDs_patient = df_processed.PATIENTID.unique()\n",
    "    IDs_patient = shuffle(IDs_patient, random_state = 12345)\n",
    "    \n",
    "    # Split train and test/eval\n",
    "    IDs_patient_training = IDs_patient[:int(0.8*len(IDs_patient))]\n",
    "    IDs_patient_test_eval = IDs_patient[int(0.8*len(IDs_patient)):]\n",
    "\n",
    "    # Define training and test/eval\n",
    "    df_training = df_labelled[df_labelled.PATIENTID.isin(IDs_patient_training)]\n",
    "    df_testing = df_labelled[df_labelled.PATIENTID.isin(IDs_patient_test_eval)]\n",
    "\n",
    "    # Prepare training data\n",
    "    df_training_case = df_training[df_training[use_case] == 1]\n",
    "    df_training_control = df_training[df_training[use_case] == 0]\n",
    "    df_training_control = shuffle(df_training_control, random_state = 12345)\n",
    "    df_training_control = df_training_control[:5*len(df_training_case)]\n",
    "    \n",
    "    df_training = pd.concat([df_training_case, df_training_control])\n",
    "    df_training = shuffle(df_training, random_state = 12345)\n",
    "\n",
    "    training_data_path = '../data/processed/df_training_' + use_case + '.csv'\n",
    "    evaluation_data_path = '../data/processed/df_eval_' + use_case + '.csv'\n",
    "    labelled_data_path = '../data/processed/df_labelled_' + use_case + '.csv'\n",
    "    \n",
    "    df_training.to_csv(training_data_path, sep = \";\", index = False)\n",
    "    df_testing.to_csv(evaluation_data_path, sep = \";\", index = False)\n",
    "\n",
    "    df_labelled.to_csv(labelled_data_path, sep = \";\", index = False)\n",
    "\n",
    "\n"
   ]
  },
  {
   "cell_type": "code",
   "execution_count": 28,
   "id": "ff6d1cd2-0140-4764-85e6-1554f878a998",
   "metadata": {},
   "outputs": [
    {
     "name": "stderr",
     "output_type": "stream",
     "text": [
      "/tmp/ipykernel_295/282627948.py:5: SettingWithCopyWarning: \n",
      "A value is trying to be set on a copy of a slice from a DataFrame.\n",
      "Try using .loc[row_indexer,col_indexer] = value instead\n",
      "\n",
      "See the caveats in the documentation: https://pandas.pydata.org/pandas-docs/stable/user_guide/indexing.html#returning-a-view-versus-a-copy\n",
      "  df_case[use_case] = 1\n",
      "/tmp/ipykernel_295/282627948.py:7: SettingWithCopyWarning: \n",
      "A value is trying to be set on a copy of a slice from a DataFrame.\n",
      "Try using .loc[row_indexer,col_indexer] = value instead\n",
      "\n",
      "See the caveats in the documentation: https://pandas.pydata.org/pandas-docs/stable/user_guide/indexing.html#returning-a-view-versus-a-copy\n",
      "  df_control[use_case] = 0\n"
     ]
    }
   ],
   "source": [
    "#生成训练及测试数据集\n",
    "\n",
    "create_train_test(df_data,use_case,df_diagnoses_disease)"
   ]
  },
  {
   "cell_type": "markdown",
   "id": "9d321cd6-a51b-4db3-87eb-c27b47a116fe",
   "metadata": {},
   "source": [
    "###  检验训练及测试数据集"
   ]
  },
  {
   "cell_type": "code",
   "execution_count": 29,
   "id": "66eb4619-fd0e-4d19-aa0b-c7ef7971614d",
   "metadata": {},
   "outputs": [],
   "source": [
    "training_path = '../data/processed/df_training_' + use_case + '.csv'\n",
    "df_training = pd.read_csv(training_path, sep = \";\")"
   ]
  },
  {
   "cell_type": "code",
   "execution_count": 30,
   "id": "6a437688-b6a5-4c2d-bb15-72bd01d63811",
   "metadata": {},
   "outputs": [
    {
     "data": {
      "text/html": [
       "<div>\n",
       "<style scoped>\n",
       "    .dataframe tbody tr th:only-of-type {\n",
       "        vertical-align: middle;\n",
       "    }\n",
       "\n",
       "    .dataframe tbody tr th {\n",
       "        vertical-align: top;\n",
       "    }\n",
       "\n",
       "    .dataframe thead th {\n",
       "        text-align: right;\n",
       "    }\n",
       "</style>\n",
       "<table border=\"1\" class=\"dataframe\">\n",
       "  <thead>\n",
       "    <tr style=\"text-align: right;\">\n",
       "      <th></th>\n",
       "      <th>PATIENTID</th>\n",
       "      <th>STAYID</th>\n",
       "      <th>ADMISSION_TIME</th>\n",
       "      <th>DISCHARGE_TIME</th>\n",
       "      <th>ADMISSION_TYPE</th>\n",
       "      <th>ADMISSION_LOCATION</th>\n",
       "      <th>INSURANCE</th>\n",
       "      <th>LANGUAGE</th>\n",
       "      <th>MARITAL_STATUS</th>\n",
       "      <th>RACE</th>\n",
       "      <th>AGE_GROUP</th>\n",
       "      <th>GENDER</th>\n",
       "      <th>ADMISSION_YEAR_GROUP</th>\n",
       "      <th>SURGERY_HISTORY</th>\n",
       "      <th>DIAGNOSIS_HISTORY</th>\n",
       "      <th>LAB_RESULT</th>\n",
       "      <th>AF4</th>\n",
       "    </tr>\n",
       "  </thead>\n",
       "  <tbody>\n",
       "    <tr>\n",
       "      <th>0</th>\n",
       "      <td>18714676</td>\n",
       "      <td>25615095</td>\n",
       "      <td>2123-07-02 04:21:00</td>\n",
       "      <td>2123-07-05 18:30:00</td>\n",
       "      <td>adm_typ_observation_admit</td>\n",
       "      <td>adm_loc_transfer_from_hospital</td>\n",
       "      <td>ins_medicare</td>\n",
       "      <td>lan_other</td>\n",
       "      <td>ms_married</td>\n",
       "      <td>race_black_african_american</td>\n",
       "      <td>age_group_5</td>\n",
       "      <td>gender_m</td>\n",
       "      <td>2008 - 2010</td>\n",
       "      <td>NaN</td>\n",
       "      <td>icd_10_b182, icd_10_d649, icd_10_d684, icd_10_...</td>\n",
       "      <td>lab_inr_pt__normal,lab_inr_pt__abnormal,lab_pt...</td>\n",
       "      <td>0</td>\n",
       "    </tr>\n",
       "    <tr>\n",
       "      <th>1</th>\n",
       "      <td>16941448</td>\n",
       "      <td>21932316</td>\n",
       "      <td>2145-01-04 23:14:00</td>\n",
       "      <td>2145-01-05 07:39:00</td>\n",
       "      <td>adm_typ_eu_observation</td>\n",
       "      <td>adm_loc_emergency_room</td>\n",
       "      <td>ins_medicaid</td>\n",
       "      <td>lan_other</td>\n",
       "      <td>ms_single</td>\n",
       "      <td>race_hispanic_or_latino</td>\n",
       "      <td>age_group_4</td>\n",
       "      <td>gender_m</td>\n",
       "      <td>2008 - 2010</td>\n",
       "      <td>NaN</td>\n",
       "      <td>icd_9_042, icd_9_27651, icd_9_30500, icd_9_305...</td>\n",
       "      <td>NaN</td>\n",
       "      <td>0</td>\n",
       "    </tr>\n",
       "    <tr>\n",
       "      <th>2</th>\n",
       "      <td>14523725</td>\n",
       "      <td>27256411</td>\n",
       "      <td>2170-04-05 05:02:00</td>\n",
       "      <td>2170-04-11 16:18:00</td>\n",
       "      <td>adm_typ_ew_emer_</td>\n",
       "      <td>adm_loc_physician_referral</td>\n",
       "      <td>ins_other</td>\n",
       "      <td>lan_other</td>\n",
       "      <td>ms_married</td>\n",
       "      <td>race_white</td>\n",
       "      <td>age_group_5</td>\n",
       "      <td>gender_f</td>\n",
       "      <td>2017 - 2019</td>\n",
       "      <td>NaN</td>\n",
       "      <td>NaN</td>\n",
       "      <td>lab_hematocrit_normal,lab_hemoglobin_normal,la...</td>\n",
       "      <td>0</td>\n",
       "    </tr>\n",
       "    <tr>\n",
       "      <th>3</th>\n",
       "      <td>11715814</td>\n",
       "      <td>22138662</td>\n",
       "      <td>2133-11-29 11:30:00</td>\n",
       "      <td>2133-11-30 18:00:00</td>\n",
       "      <td>adm_typ_surgical_same_day_admission</td>\n",
       "      <td>adm_loc_physician_referral</td>\n",
       "      <td>ins_medicaid</td>\n",
       "      <td>lan_other</td>\n",
       "      <td>ms_single</td>\n",
       "      <td>race_hispanic_or_latino</td>\n",
       "      <td>age_group_2</td>\n",
       "      <td>gender_f</td>\n",
       "      <td>2008 - 2010</td>\n",
       "      <td>NaN</td>\n",
       "      <td>NaN</td>\n",
       "      <td>NaN</td>\n",
       "      <td>0</td>\n",
       "    </tr>\n",
       "    <tr>\n",
       "      <th>4</th>\n",
       "      <td>15814891</td>\n",
       "      <td>21120922</td>\n",
       "      <td>2166-03-05 18:24:00</td>\n",
       "      <td>2166-03-12 16:45:00</td>\n",
       "      <td>adm_typ_observation_admit</td>\n",
       "      <td>adm_loc_emergency_room</td>\n",
       "      <td>ins_other</td>\n",
       "      <td>lan_other</td>\n",
       "      <td>ms_married</td>\n",
       "      <td>race_black_african_american</td>\n",
       "      <td>age_group_4</td>\n",
       "      <td>gender_f</td>\n",
       "      <td>2011 - 2013</td>\n",
       "      <td>icd_10_027034z, icd_10_047l3zz, icd_10_0ybn0zx...</td>\n",
       "      <td>icd_10_b9561, icd_10_e1165, icd_10_e119, icd_1...</td>\n",
       "      <td>lab_inr_pt__abnormal,lab_pt_abnormal,lab_ptt_a...</td>\n",
       "      <td>1</td>\n",
       "    </tr>\n",
       "  </tbody>\n",
       "</table>\n",
       "</div>"
      ],
      "text/plain": [
       "   PATIENTID    STAYID       ADMISSION_TIME       DISCHARGE_TIME  \\\n",
       "0   18714676  25615095  2123-07-02 04:21:00  2123-07-05 18:30:00   \n",
       "1   16941448  21932316  2145-01-04 23:14:00  2145-01-05 07:39:00   \n",
       "2   14523725  27256411  2170-04-05 05:02:00  2170-04-11 16:18:00   \n",
       "3   11715814  22138662  2133-11-29 11:30:00  2133-11-30 18:00:00   \n",
       "4   15814891  21120922  2166-03-05 18:24:00  2166-03-12 16:45:00   \n",
       "\n",
       "                        ADMISSION_TYPE              ADMISSION_LOCATION  \\\n",
       "0            adm_typ_observation_admit  adm_loc_transfer_from_hospital   \n",
       "1               adm_typ_eu_observation          adm_loc_emergency_room   \n",
       "2                     adm_typ_ew_emer_      adm_loc_physician_referral   \n",
       "3  adm_typ_surgical_same_day_admission      adm_loc_physician_referral   \n",
       "4            adm_typ_observation_admit          adm_loc_emergency_room   \n",
       "\n",
       "      INSURANCE   LANGUAGE MARITAL_STATUS                         RACE  \\\n",
       "0  ins_medicare  lan_other     ms_married  race_black_african_american   \n",
       "1  ins_medicaid  lan_other      ms_single      race_hispanic_or_latino   \n",
       "2     ins_other  lan_other     ms_married                   race_white   \n",
       "3  ins_medicaid  lan_other      ms_single      race_hispanic_or_latino   \n",
       "4     ins_other  lan_other     ms_married  race_black_african_american   \n",
       "\n",
       "     AGE_GROUP    GENDER ADMISSION_YEAR_GROUP  \\\n",
       "0  age_group_5  gender_m          2008 - 2010   \n",
       "1  age_group_4  gender_m          2008 - 2010   \n",
       "2  age_group_5  gender_f          2017 - 2019   \n",
       "3  age_group_2  gender_f          2008 - 2010   \n",
       "4  age_group_4  gender_f          2011 - 2013   \n",
       "\n",
       "                                     SURGERY_HISTORY  \\\n",
       "0                                                NaN   \n",
       "1                                                NaN   \n",
       "2                                                NaN   \n",
       "3                                                NaN   \n",
       "4  icd_10_027034z, icd_10_047l3zz, icd_10_0ybn0zx...   \n",
       "\n",
       "                                   DIAGNOSIS_HISTORY  \\\n",
       "0  icd_10_b182, icd_10_d649, icd_10_d684, icd_10_...   \n",
       "1  icd_9_042, icd_9_27651, icd_9_30500, icd_9_305...   \n",
       "2                                                NaN   \n",
       "3                                                NaN   \n",
       "4  icd_10_b9561, icd_10_e1165, icd_10_e119, icd_1...   \n",
       "\n",
       "                                          LAB_RESULT  AF4  \n",
       "0  lab_inr_pt__normal,lab_inr_pt__abnormal,lab_pt...    0  \n",
       "1                                                NaN    0  \n",
       "2  lab_hematocrit_normal,lab_hemoglobin_normal,la...    0  \n",
       "3                                                NaN    0  \n",
       "4  lab_inr_pt__abnormal,lab_pt_abnormal,lab_ptt_a...    1  "
      ]
     },
     "execution_count": 30,
     "metadata": {},
     "output_type": "execute_result"
    }
   ],
   "source": [
    "df_training.head()"
   ]
  },
  {
   "cell_type": "code",
   "execution_count": 31,
   "id": "801acc46-5e1b-4d87-b4b2-5aeb481f9433",
   "metadata": {},
   "outputs": [
    {
     "data": {
      "text/plain": [
       "0    241240\n",
       "1     48248\n",
       "Name: AF4, dtype: int64"
      ]
     },
     "execution_count": 31,
     "metadata": {},
     "output_type": "execute_result"
    }
   ],
   "source": [
    "df_training[use_case].value_counts()"
   ]
  },
  {
   "cell_type": "code",
   "execution_count": null,
   "id": "f0b2f35e-613a-45e7-a61a-8c17ee672a90",
   "metadata": {},
   "outputs": [],
   "source": []
  }
 ],
 "metadata": {
  "kernelspec": {
   "display_name": "Python 3 (ipykernel)",
   "language": "python",
   "name": "python3"
  },
  "language_info": {
   "codemirror_mode": {
    "name": "ipython",
    "version": 3
   },
   "file_extension": ".py",
   "mimetype": "text/x-python",
   "name": "python",
   "nbconvert_exporter": "python",
   "pygments_lexer": "ipython3",
   "version": "3.8.10"
  }
 },
 "nbformat": 4,
 "nbformat_minor": 5
}
