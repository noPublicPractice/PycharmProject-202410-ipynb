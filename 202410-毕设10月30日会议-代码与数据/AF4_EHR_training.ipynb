{
 "cells": [
  {
   "cell_type": "markdown",
   "id": "119e0719-c8c8-45be-ab3f-5de00d165bcd",
   "metadata": {},
   "source": [
    "# 更新AF标签，加入ICD9编码\n",
    "\n",
    "## AF - Atrial Fibrillation房颤"
   ]
  },
  {
   "cell_type": "markdown",
   "id": "2faff3f2-8634-43fd-8cb3-c33f6878c871",
   "metadata": {},
   "source": [
    "## 本notebook使用AF4为标签"
   ]
  },
  {
   "cell_type": "code",
   "execution_count": 1,
   "id": "5ee7664c-72fb-4845-921b-0ced7bf17f67",
   "metadata": {},
   "outputs": [],
   "source": [
    "import pandas as pd\n",
    "import numpy as np\n",
    "from sklearn import metrics\n",
    "from sklearn.model_selection import train_test_split\n",
    "from sklearn.utils import shuffle\n",
    "from sklearn.feature_extraction.text import TfidfVectorizer\n",
    "from sklearn.linear_model import LogisticRegression\n",
    "from sklearn.metrics import log_loss, confusion_matrix, classification_report, roc_curve, auc, accuracy_score\n",
    "import itertools, logging\n",
    "from sklearn.feature_extraction.text import CountVectorizer\n",
    "import joblib\n",
    "from datetime import datetime"
   ]
  },
  {
   "cell_type": "markdown",
   "id": "d5925fe6-07f5-440d-b986-0707ab53aed5",
   "metadata": {},
   "source": [
    "## 明确标签，load数据集"
   ]
  },
  {
   "cell_type": "code",
   "execution_count": 2,
   "id": "e961b099-c072-4594-93bf-ae621a946b44",
   "metadata": {},
   "outputs": [],
   "source": [
    "LABEL = 'AF4'"
   ]
  },
  {
   "cell_type": "code",
   "execution_count": 3,
   "id": "7ba8fed0-6eba-44f8-9893-f6c1b087e488",
   "metadata": {},
   "outputs": [],
   "source": [
    "df_training = pd.read_csv('../data/processed/df_training_'+LABEL+'.csv',sep=';')"
   ]
  },
  {
   "cell_type": "code",
   "execution_count": 4,
   "id": "cdba0505-4cf3-4a9f-b353-a6a5f6fb5727",
   "metadata": {},
   "outputs": [],
   "source": [
    "df_testing = pd.read_csv('../data/processed/df_eval_'+LABEL+'.csv',sep=';')"
   ]
  },
  {
   "cell_type": "markdown",
   "id": "8f034ccc-55da-47a4-aa5f-c0e9b18b7faf",
   "metadata": {},
   "source": [
    "## 创建训练、测试数据集"
   ]
  },
  {
   "cell_type": "markdown",
   "id": "d3b08e8a-fe52-41b7-96de-4ebecfa7070e",
   "metadata": {},
   "source": [
    "#### 创建训练数据集"
   ]
  },
  {
   "cell_type": "code",
   "execution_count": 5,
   "id": "c167d465-d37f-4734-9729-6031eea609bc",
   "metadata": {},
   "outputs": [],
   "source": [
    "## 定义训练用特征\n",
    "\n",
    "features_training = [\n",
    "    'GENDER',\n",
    "    'AGE_GROUP',\n",
    "    'ADMISSION_TYPE',\n",
    "    'DIAGNOSIS_HISTORY',\n",
    "    'SURGERY_HISTORY',\n",
    "    'LAB_RESULT',\n",
    "    'ADMISSION_LOCATION',\n",
    "    'INSURANCE',\n",
    "    'LANGUAGE',\n",
    "    'MARITAL_STATUS',\n",
    "    'RACE'\n",
    "    ]      \n",
    "\n",
    "# 确保所有特征值都是字符串\n",
    "df_training[features_training] = df_training[features_training].astype(str)\n",
    "\n",
    "# 初始化 inputs 列表\n",
    "inputs = []\n",
    "\n",
    "# 遍历数据框的每一行， 生成observation列，聚集所有特征值，之后在此基础上通过TF-IDF生成特征向量集\n",
    "for index, row in df_training.iterrows():\n",
    "    # 用逗号分隔的特征字符串\n",
    "    observation = ','.join(row[features_training].values)\n",
    "    observation = observation.replace(',nan', '')\n",
    "    inputs.append(observation)\n",
    "\n",
    "# 构建训练数据框\n",
    "train_data = pd.DataFrame({\n",
    "    'STAYID': df_training.STAYID,\n",
    "    'OBSERVATIONS': inputs,\n",
    "    'LABEL': df_training[LABEL]\n",
    "})"
   ]
  },
  {
   "cell_type": "code",
   "execution_count": 6,
   "id": "f4b4c23c-c984-4039-81a1-287aef75eaf0",
   "metadata": {},
   "outputs": [
    {
     "data": {
      "text/html": [
       "<div>\n",
       "<style scoped>\n",
       "    .dataframe tbody tr th:only-of-type {\n",
       "        vertical-align: middle;\n",
       "    }\n",
       "\n",
       "    .dataframe tbody tr th {\n",
       "        vertical-align: top;\n",
       "    }\n",
       "\n",
       "    .dataframe thead th {\n",
       "        text-align: right;\n",
       "    }\n",
       "</style>\n",
       "<table border=\"1\" class=\"dataframe\">\n",
       "  <thead>\n",
       "    <tr style=\"text-align: right;\">\n",
       "      <th></th>\n",
       "      <th>STAYID</th>\n",
       "      <th>OBSERVATIONS</th>\n",
       "      <th>LABEL</th>\n",
       "    </tr>\n",
       "  </thead>\n",
       "  <tbody>\n",
       "    <tr>\n",
       "      <th>0</th>\n",
       "      <td>25615095</td>\n",
       "      <td>gender_m,age_group_5,adm_typ_observation_admit...</td>\n",
       "      <td>0</td>\n",
       "    </tr>\n",
       "    <tr>\n",
       "      <th>1</th>\n",
       "      <td>21932316</td>\n",
       "      <td>gender_m,age_group_4,adm_typ_eu_observation,ic...</td>\n",
       "      <td>0</td>\n",
       "    </tr>\n",
       "    <tr>\n",
       "      <th>2</th>\n",
       "      <td>27256411</td>\n",
       "      <td>gender_f,age_group_5,adm_typ_ew_emer_,lab_hema...</td>\n",
       "      <td>0</td>\n",
       "    </tr>\n",
       "    <tr>\n",
       "      <th>3</th>\n",
       "      <td>22138662</td>\n",
       "      <td>gender_f,age_group_2,adm_typ_surgical_same_day...</td>\n",
       "      <td>0</td>\n",
       "    </tr>\n",
       "    <tr>\n",
       "      <th>4</th>\n",
       "      <td>21120922</td>\n",
       "      <td>gender_f,age_group_4,adm_typ_observation_admit...</td>\n",
       "      <td>1</td>\n",
       "    </tr>\n",
       "  </tbody>\n",
       "</table>\n",
       "</div>"
      ],
      "text/plain": [
       "     STAYID                                       OBSERVATIONS  LABEL\n",
       "0  25615095  gender_m,age_group_5,adm_typ_observation_admit...      0\n",
       "1  21932316  gender_m,age_group_4,adm_typ_eu_observation,ic...      0\n",
       "2  27256411  gender_f,age_group_5,adm_typ_ew_emer_,lab_hema...      0\n",
       "3  22138662  gender_f,age_group_2,adm_typ_surgical_same_day...      0\n",
       "4  21120922  gender_f,age_group_4,adm_typ_observation_admit...      1"
      ]
     },
     "execution_count": 6,
     "metadata": {},
     "output_type": "execute_result"
    }
   ],
   "source": [
    "train_data.head()"
   ]
  },
  {
   "cell_type": "markdown",
   "id": "96ef5318-cece-43f1-b19b-bbfaae2c0ed7",
   "metadata": {},
   "source": [
    "#### 创建测试数据集"
   ]
  },
  {
   "cell_type": "code",
   "execution_count": 7,
   "id": "4a965d74-b5d2-4133-bd93-fba2bb2650c6",
   "metadata": {},
   "outputs": [],
   "source": [
    "# 确保所有特征值都是字符串\n",
    "df_testing[features_training] = df_testing[features_training].astype(str)\n",
    "\n",
    "# 初始化 inputs 列表\n",
    "inputs_test = []\n",
    "\n",
    "# 遍历数据框的每一行\n",
    "for index, row in df_testing.iterrows():\n",
    "    # 用逗号分隔的特征字符串\n",
    "    observation = ','.join(row[features_training].values)\n",
    "    observation = observation.replace(',nan', '')\n",
    "    inputs_test.append(observation)\n",
    "\n",
    "test_data = pd.DataFrame(\n",
    "    {'STAYID': df_testing.STAYID,\n",
    "     'OBSERVATIONS': inputs_test,\n",
    "     'LABEL': df_testing[LABEL]\n",
    "    })"
   ]
  },
  {
   "cell_type": "code",
   "execution_count": 8,
   "id": "352b6cdd-dab7-43a9-aee7-bdf193d90f7f",
   "metadata": {},
   "outputs": [
    {
     "data": {
      "text/html": [
       "<div>\n",
       "<style scoped>\n",
       "    .dataframe tbody tr th:only-of-type {\n",
       "        vertical-align: middle;\n",
       "    }\n",
       "\n",
       "    .dataframe tbody tr th {\n",
       "        vertical-align: top;\n",
       "    }\n",
       "\n",
       "    .dataframe thead th {\n",
       "        text-align: right;\n",
       "    }\n",
       "</style>\n",
       "<table border=\"1\" class=\"dataframe\">\n",
       "  <thead>\n",
       "    <tr style=\"text-align: right;\">\n",
       "      <th></th>\n",
       "      <th>STAYID</th>\n",
       "      <th>OBSERVATIONS</th>\n",
       "      <th>LABEL</th>\n",
       "    </tr>\n",
       "  </thead>\n",
       "  <tbody>\n",
       "    <tr>\n",
       "      <th>0</th>\n",
       "      <td>21728396</td>\n",
       "      <td>gender_m,age_group_7,adm_typ_observation_admit...</td>\n",
       "      <td>1</td>\n",
       "    </tr>\n",
       "    <tr>\n",
       "      <th>1</th>\n",
       "      <td>24982426</td>\n",
       "      <td>gender_m,age_group_8,adm_typ_urgent,lab_inr_pt...</td>\n",
       "      <td>1</td>\n",
       "    </tr>\n",
       "    <tr>\n",
       "      <th>2</th>\n",
       "      <td>23646008</td>\n",
       "      <td>gender_f,age_group_5,adm_typ_ew_emer_,lab_inr_...</td>\n",
       "      <td>1</td>\n",
       "    </tr>\n",
       "    <tr>\n",
       "      <th>3</th>\n",
       "      <td>24817944</td>\n",
       "      <td>gender_f,age_group_5,adm_typ_surgical_same_day...</td>\n",
       "      <td>1</td>\n",
       "    </tr>\n",
       "    <tr>\n",
       "      <th>4</th>\n",
       "      <td>22187210</td>\n",
       "      <td>gender_m,age_group_4,adm_typ_direct_emer_,icd_...</td>\n",
       "      <td>1</td>\n",
       "    </tr>\n",
       "  </tbody>\n",
       "</table>\n",
       "</div>"
      ],
      "text/plain": [
       "     STAYID                                       OBSERVATIONS  LABEL\n",
       "0  21728396  gender_m,age_group_7,adm_typ_observation_admit...      1\n",
       "1  24982426  gender_m,age_group_8,adm_typ_urgent,lab_inr_pt...      1\n",
       "2  23646008  gender_f,age_group_5,adm_typ_ew_emer_,lab_inr_...      1\n",
       "3  24817944  gender_f,age_group_5,adm_typ_surgical_same_day...      1\n",
       "4  22187210  gender_m,age_group_4,adm_typ_direct_emer_,icd_...      1"
      ]
     },
     "execution_count": 8,
     "metadata": {},
     "output_type": "execute_result"
    }
   ],
   "source": [
    "test_data.head()"
   ]
  },
  {
   "cell_type": "code",
   "execution_count": 9,
   "id": "bc331e46-9a37-4ade-ad69-f76de17d08ec",
   "metadata": {},
   "outputs": [
    {
     "data": {
      "text/plain": [
       "['gender_m,age_group_7,adm_typ_observation_admit,adm_loc_transfer_from_hospital,ins_other,lan_other,ms_single,race_white',\n",
       " 'gender_m,age_group_8,adm_typ_urgent,lab_inr_pt__abnormal,lab_pt_abnormal,lab_ptt_abnormal,lab_hematocrit_normal,lab_hemoglobin_normal,lab_mch_normal,lab_mchc_normal,lab_mcv_normal,lab_platelet_count_normal,lab_rdw_normal,lab_red_blood_cells_abnormal,lab_white_blood_cells_abnormal,lab_anion_gap_abnormal,lab_bicarbonate_abnormal,lab_calcium__total_abnormal,lab_chloride_normal,lab_creatinine_abnormal,lab_glucose_abnormal,lab_magnesium_normal,lab_phosphate_normal,lab_potassium_normal,lab_sodium_abnormal,lab_urea_nitrogen_abnormal,lab_platelet_smear_normal,lab_absolute_lymphocyte_count_abnormal,lab_basophils_normal,lab_eosinophils_normal,lab_lymphocytes_abnormal,lab_monocytes_normal,lab_neutrophils_abnormal,lab_absolute_basophil_count_abnormal,lab_absolute_eosinophil_count_abnormal,lab_absolute_monocyte_count_abnormal,lab_absolute_neutrophil_count_abnormal,lab_rdw_sd_normal,lab_estimated_gfr__mdrd_equation__normal,lab_troponin_t_abnormal,lab_creatine_kinase__mb_isoenzyme_abnormal,lab_anisocytosis_normal,lab_atypical_lymphocytes_normal,lab_bands_abnormal,lab_hypochromia_normal,lab_macrocytes_normal,lab_metamyelocytes_normal,lab_microcytes_normal,lab_myelocytes_normal,lab_poikilocytosis_normal,lab_polychromasia_normal,lab_echinocytes_normal,lab___hemoglobin_a1c_normal,lab_eag_normal,lab_cholesterol_ratio__total_hdl__normal,lab_cholesterol__hdl_normal,lab_cholesterol__ldl__calculated_normal,lab_cholesterol__total_normal,lab_triglycerides_normal,adm_loc_transfer_from_hospital,ins_medicare,lan_other,ms_married,race_unknown',\n",
       " 'gender_f,age_group_5,adm_typ_ew_emer_,lab_inr_pt__abnormal,lab_pt_abnormal,lab_pt_normal,lab_ptt_abnormal,lab_hematocrit_normal,lab_hemoglobin_normal,lab_mch_normal,lab_mchc_normal,lab_mcv_normal,lab_platelet_count_normal,lab_rdw_normal,lab_red_blood_cells_normal,lab_white_blood_cells_normal,lab_anion_gap_normal,lab_bicarbonate_normal,lab_chloride_normal,lab_creatinine_normal,lab_glucose_abnormal,lab_potassium_normal,lab_sodium_normal,lab_urea_nitrogen_abnormal,lab_urea_nitrogen_normal,lab_basophils_normal,lab_eosinophils_normal,lab_lymphocytes_normal,lab_monocytes_normal,lab_neutrophils_normal,lab_estimated_gfr__mdrd_equation__normal,lab_light_green_top_hold_normal,lab_lactate_normal,adm_loc_emergency_room,ins_other,lan_other,ms_single,race_white',\n",
       " 'gender_f,age_group_5,adm_typ_surgical_same_day_admission,icd_9_27800, icd_9_311, icd_9_40390, icd_9_45981, icd_9_53081, icd_9_5859, icd_9_6826, icd_9_78050, icd_9_9245, icd_9_e8499, icd_9_e9289, icd_9_v8542,icd_9_8601,lab_hematocrit_abnormal,adm_loc_physician_referral,ins_medicare,lan_other,ms_single,race_white___other_european',\n",
       " 'gender_m,age_group_4,adm_typ_direct_emer_,icd_9_03842, icd_9_1560, icd_9_1978, icd_9_2749, icd_9_2762, icd_9_27800, icd_9_2859, icd_9_28749, icd_9_29900, icd_9_34830, icd_9_4019, icd_9_40390, icd_9_4254, icd_9_42789, icd_9_4280, icd_9_42821, icd_9_486, icd_9_51881, icd_9_570, icd_9_57512, icd_9_5761, icd_9_58389, icd_9_5845, icd_9_5859, icd_9_5939, icd_9_75169, icd_9_78551, icd_9_79029, icd_9_7906, icd_9_99592, icd_9_v1253, icd_9_v5861, icd_9_v8535,lab_inr_pt__normal,lab_pt_normal,lab_ptt_normal,lab_hematocrit_abnormal,lab_hemoglobin_abnormal,lab_mch_normal,lab_mchc_normal,lab_mcv_normal,lab_platelet_count_normal,lab_rdw_normal,lab_red_blood_cells_abnormal,lab_white_blood_cells_abnormal,lab_alanine_aminotransferase__alt__abnormal,lab_alkaline_phosphatase_abnormal,lab_anion_gap_normal,lab_asparate_aminotransferase__ast__abnormal,lab_bicarbonate_abnormal,lab_bilirubin__total_normal,lab_calcium__total_normal,lab_chloride_normal,lab_creatinine_abnormal,lab_glucose_abnormal,lab_magnesium_normal,lab_phosphate_normal,lab_potassium_normal,lab_sodium_normal,lab_urea_nitrogen_normal,lab_rdw_sd_normal,adm_loc_physician_referral,ins_medicaid,lan_other,ms_single,race_black_cape_verdean']"
      ]
     },
     "execution_count": 9,
     "metadata": {},
     "output_type": "execute_result"
    }
   ],
   "source": [
    "test_data.head().OBSERVATIONS.tolist()"
   ]
  },
  {
   "cell_type": "markdown",
   "id": "b2154abf-ca4f-428d-82a2-4974bdc26141",
   "metadata": {},
   "source": [
    "## 训练数据向量化，使用TfidfVectorizer \n",
    "(https://scikit-learn.org/1.5/modules/generated/sklearn.feature_extraction.text.TfidfVectorizer.html#sklearn.feature_extraction.text.TfidfVectorizer)"
   ]
  },
  {
   "cell_type": "code",
   "execution_count": 10,
   "id": "72fa882d-b716-4882-b79c-c9cfe4e1f749",
   "metadata": {},
   "outputs": [],
   "source": [
    "vectorizer = TfidfVectorizer(analyzer = \"word\"\n",
    "                                  , max_features=500  #保留特征数量\n",
    "                                  , dtype = np.float32\n",
    "                                  #, max_df = 0.95\n",
    "                                  #, min_df = 0.05\n",
    "                                 )\n",
    "train_tfidf = vectorizer.fit_transform(train_data.OBSERVATIONS)\n",
    "\n",
    "train_X = train_tfidf.toarray()\n",
    "train_y = train_data[\"LABEL\"]\n",
    "\n",
    "test_tfidf = vectorizer.transform(test_data.OBSERVATIONS)\n",
    "test_X = test_tfidf.toarray()\n",
    "test_y = test_data[\"LABEL\"]"
   ]
  },
  {
   "cell_type": "code",
   "execution_count": 11,
   "id": "007848da-c2b8-4f0e-99f3-4333815227c6",
   "metadata": {},
   "outputs": [
    {
     "data": {
      "text/plain": [
       "(289488, 500)"
      ]
     },
     "execution_count": 11,
     "metadata": {},
     "output_type": "execute_result"
    }
   ],
   "source": [
    "train_tfidf.shape"
   ]
  },
  {
   "cell_type": "code",
   "execution_count": 12,
   "id": "35d0493a-2998-4f84-959c-f4be145fd38a",
   "metadata": {},
   "outputs": [
    {
     "data": {
      "text/plain": [
       "array(['adm_loc_clinic_referral', 'adm_loc_emergency_room',\n",
       "       'adm_loc_physician_referral', 'adm_loc_procedure_site',\n",
       "       'adm_loc_transfer_from_hospital', 'adm_loc_walk_in_self_referral',\n",
       "       'adm_typ_ambulatory_observation', 'adm_typ_direct_emer_',\n",
       "       'adm_typ_direct_observation', 'adm_typ_elective',\n",
       "       'adm_typ_eu_observation', 'adm_typ_ew_emer_',\n",
       "       'adm_typ_observation_admit', 'adm_typ_surgical_same_day_admission',\n",
       "       'adm_typ_urgent', 'age_group_2', 'age_group_3', 'age_group_4',\n",
       "       'age_group_5', 'age_group_6'], dtype=object)"
      ]
     },
     "execution_count": 12,
     "metadata": {},
     "output_type": "execute_result"
    }
   ],
   "source": [
    "feature_names = vectorizer.get_feature_names_out()\n",
    "feature_names[:20]"
   ]
  },
  {
   "cell_type": "markdown",
   "id": "3ad87e4e-fa02-4fd0-a316-3943213456a0",
   "metadata": {},
   "source": [
    "## 模型训练"
   ]
  },
  {
   "cell_type": "markdown",
   "id": "1157cfe1-e38f-4189-b793-a7f89747b2f6",
   "metadata": {},
   "source": [
    "### 使用LGBM, 特征值为2000"
   ]
  },
  {
   "cell_type": "code",
   "execution_count": 13,
   "id": "9bf85e5b-e068-4475-8204-a253e1ef4679",
   "metadata": {},
   "outputs": [
    {
     "name": "stdout",
     "output_type": "stream",
     "text": [
      "[LightGBM] [Info] Number of positive: 48248, number of negative: 241240\n",
      "[LightGBM] [Info] Auto-choosing col-wise multi-threading, the overhead of testing was 0.328497 seconds.\n",
      "You can set `force_col_wise=true` to remove the overhead.\n",
      "[LightGBM] [Info] Total Bins 459386\n",
      "[LightGBM] [Info] Number of data points in the train set: 289488, number of used features: 2000\n",
      "[LightGBM] [Info] [binary:BoostFromScore]: pavg=0.166667 -> initscore=-1.609438\n",
      "[LightGBM] [Info] Start training from score -1.609438\n",
      "sensitivity: 0.47\n",
      "\n",
      "specificity: 0.98\n",
      "\n",
      "discrimination: 0.906\n",
      "\n"
     ]
    },
    {
     "data": {
      "text/plain": [
       "['vectorizer.pkl']"
      ]
     },
     "execution_count": 13,
     "metadata": {},
     "output_type": "execute_result"
    }
   ],
   "source": [
    "import pandas as pd\n",
    "from sklearn.model_selection import train_test_split\n",
    "from sklearn.preprocessing import LabelEncoder\n",
    "from sklearn.feature_extraction.text import CountVectorizer\n",
    "from sklearn.ensemble import RandomForestClassifier\n",
    "from sklearn.metrics import classification_report\n",
    "from sklearn.ensemble import GradientBoostingClassifier\n",
    "from xgboost import XGBClassifier\n",
    "from lightgbm import LGBMClassifier\n",
    "import joblib\n",
    "\n",
    "# Feature extraction: Convert observations to features using CountVectorizer\n",
    "\n",
    "vectorizer = TfidfVectorizer(analyzer = \"word\"\n",
    "                                  , max_features=2000\n",
    "                                  #, max_df = 0.95\n",
    "                                  #, min_df = 0.05\n",
    "                                  , dtype = np.float32\n",
    "                                 )\n",
    "\n",
    "\n",
    "X_train = vectorizer.fit_transform(train_data['OBSERVATIONS'])\n",
    "\n",
    "y_train = train_data[\"LABEL\"]\n",
    "\n",
    "\n",
    "\n",
    "X_test = vectorizer.transform(test_data.OBSERVATIONS)\n",
    "y_test = test_data[\"LABEL\"]\n",
    "\n",
    "\n",
    "# Model training: Train a RandomForestClassifier\n",
    "#model = RandomForestClassifier(n_estimators=100, random_state=42)\n",
    "\n",
    "#model.fit(X_train, y_train)\n",
    "\n",
    "\n",
    "#model = GradientBoostingClassifier(n_estimators=100, learning_rate=1.0,\n",
    "#    max_depth=1, random_state=0).fit(X_train, y_train)\n",
    "\n",
    "#使用LGBM模型\n",
    "model = LGBMClassifier()\n",
    "model.fit(X_train, y_train)\n",
    "\n",
    "# Model evaluation: Predict on the test set and print the classification report\n",
    "y_pred = model.predict(X_test)\n",
    "#print(classification_report(y_test, y_pred, target_names=label_encoder.classes_))\n",
    "\n",
    "\n",
    "pred_lr_prob_ref = model.predict_proba(X_test)[:,1]\n",
    "pred_lr = model.predict(X_test)\n",
    "\n",
    "conf_mat = confusion_matrix(test_data[\"LABEL\"], pred_lr)\n",
    "\n",
    "pred_pro = model.predict_proba(X_test)[:,1]\n",
    "\n",
    "frp_mi, trp_mi, thres_mi = roc_curve(test_data[\"LABEL\"], pred_pro)\n",
    "\n",
    "auc_val_mi = auc(frp_mi, trp_mi)\n",
    "\n",
    "print(\"sensitivity: \" + str(round(metrics.recall_score(test_data[\"LABEL\"], pred_lr),2)) + '\\n') \n",
    "print(\"specificity: \" + str(round(1-metrics.recall_score(1-test_data[\"LABEL\"], pred_lr),2)) + '\\n') \n",
    "print(\"discrimination: \" + str(round(auc_val_mi,3)) + '\\n') \n",
    "\n",
    "\n",
    "joblib.dump(model, 'model.pkl')\n",
    "joblib.dump(vectorizer, 'vectorizer.pkl')"
   ]
  },
  {
   "cell_type": "code",
   "execution_count": 14,
   "id": "8673c4f0-c6a3-468a-a97d-93f252189071",
   "metadata": {},
   "outputs": [
    {
     "data": {
      "text/html": [
       "<div>\n",
       "<style scoped>\n",
       "    .dataframe tbody tr th:only-of-type {\n",
       "        vertical-align: middle;\n",
       "    }\n",
       "\n",
       "    .dataframe tbody tr th {\n",
       "        vertical-align: top;\n",
       "    }\n",
       "\n",
       "    .dataframe thead th {\n",
       "        text-align: right;\n",
       "    }\n",
       "</style>\n",
       "<table border=\"1\" class=\"dataframe\">\n",
       "  <thead>\n",
       "    <tr style=\"text-align: right;\">\n",
       "      <th></th>\n",
       "      <th>feature_names</th>\n",
       "      <th>scores</th>\n",
       "    </tr>\n",
       "  </thead>\n",
       "  <tbody>\n",
       "    <tr>\n",
       "      <th>906</th>\n",
       "      <td>icd_9_42732</td>\n",
       "      <td>72</td>\n",
       "    </tr>\n",
       "    <tr>\n",
       "      <th>1625</th>\n",
       "      <td>icd_9_v5861</td>\n",
       "      <td>58</td>\n",
       "    </tr>\n",
       "    <tr>\n",
       "      <th>470</th>\n",
       "      <td>icd_10_z7901</td>\n",
       "      <td>57</td>\n",
       "    </tr>\n",
       "    <tr>\n",
       "      <th>19</th>\n",
       "      <td>age_group_3</td>\n",
       "      <td>49</td>\n",
       "    </tr>\n",
       "    <tr>\n",
       "      <th>18</th>\n",
       "      <td>age_group_2</td>\n",
       "      <td>46</td>\n",
       "    </tr>\n",
       "    <tr>\n",
       "      <th>21</th>\n",
       "      <td>age_group_5</td>\n",
       "      <td>39</td>\n",
       "    </tr>\n",
       "    <tr>\n",
       "      <th>471</th>\n",
       "      <td>icd_10_z7902</td>\n",
       "      <td>39</td>\n",
       "    </tr>\n",
       "    <tr>\n",
       "      <th>20</th>\n",
       "      <td>age_group_4</td>\n",
       "      <td>38</td>\n",
       "    </tr>\n",
       "    <tr>\n",
       "      <th>13</th>\n",
       "      <td>adm_typ_eu_observation</td>\n",
       "      <td>37</td>\n",
       "    </tr>\n",
       "    <tr>\n",
       "      <th>27</th>\n",
       "      <td>gender_m</td>\n",
       "      <td>31</td>\n",
       "    </tr>\n",
       "    <tr>\n",
       "      <th>910</th>\n",
       "      <td>icd_9_4280</td>\n",
       "      <td>29</td>\n",
       "    </tr>\n",
       "    <tr>\n",
       "      <th>24</th>\n",
       "      <td>age_group_8</td>\n",
       "      <td>29</td>\n",
       "    </tr>\n",
       "    <tr>\n",
       "      <th>22</th>\n",
       "      <td>age_group_6</td>\n",
       "      <td>28</td>\n",
       "    </tr>\n",
       "    <tr>\n",
       "      <th>16</th>\n",
       "      <td>adm_typ_surgical_same_day_admission</td>\n",
       "      <td>28</td>\n",
       "    </tr>\n",
       "    <tr>\n",
       "      <th>1888</th>\n",
       "      <td>lab_pt_abnormal</td>\n",
       "      <td>28</td>\n",
       "    </tr>\n",
       "    <tr>\n",
       "      <th>908</th>\n",
       "      <td>icd_9_42781</td>\n",
       "      <td>26</td>\n",
       "    </tr>\n",
       "    <tr>\n",
       "      <th>844</th>\n",
       "      <td>icd_9_3734</td>\n",
       "      <td>23</td>\n",
       "    </tr>\n",
       "    <tr>\n",
       "      <th>1595</th>\n",
       "      <td>icd_9_v4501</td>\n",
       "      <td>23</td>\n",
       "    </tr>\n",
       "    <tr>\n",
       "      <th>1800</th>\n",
       "      <td>lab_inr_pt__abnormal</td>\n",
       "      <td>23</td>\n",
       "    </tr>\n",
       "    <tr>\n",
       "      <th>1428</th>\n",
       "      <td>icd_9_9962</td>\n",
       "      <td>22</td>\n",
       "    </tr>\n",
       "  </tbody>\n",
       "</table>\n",
       "</div>"
      ],
      "text/plain": [
       "                            feature_names  scores\n",
       "906                           icd_9_42732      72\n",
       "1625                          icd_9_v5861      58\n",
       "470                          icd_10_z7901      57\n",
       "19                            age_group_3      49\n",
       "18                            age_group_2      46\n",
       "21                            age_group_5      39\n",
       "471                          icd_10_z7902      39\n",
       "20                            age_group_4      38\n",
       "13                 adm_typ_eu_observation      37\n",
       "27                               gender_m      31\n",
       "910                            icd_9_4280      29\n",
       "24                            age_group_8      29\n",
       "22                            age_group_6      28\n",
       "16    adm_typ_surgical_same_day_admission      28\n",
       "1888                      lab_pt_abnormal      28\n",
       "908                           icd_9_42781      26\n",
       "844                            icd_9_3734      23\n",
       "1595                          icd_9_v4501      23\n",
       "1800                 lab_inr_pt__abnormal      23\n",
       "1428                           icd_9_9962      22"
      ]
     },
     "execution_count": 14,
     "metadata": {},
     "output_type": "execute_result"
    }
   ],
   "source": [
    "# 获取特征重要性\n",
    "feature_importance = model.feature_importances_\n",
    "\n",
    "# 获取特征名称\n",
    "feature_names = vectorizer.get_feature_names_out()\n",
    "\n",
    "# 创建 DataFrame 并按重要性排序\n",
    "explaining_df = pd.DataFrame({\n",
    "    \"feature_names\": feature_names,\n",
    "    \"scores\": feature_importance\n",
    "}).sort_values(by=\"scores\", ascending=False)\n",
    "explaining_df[:20]"
   ]
  },
  {
   "cell_type": "code",
   "execution_count": null,
   "id": "091f6176-4f9a-4f61-a00d-4cfadd746180",
   "metadata": {},
   "outputs": [],
   "source": []
  },
  {
   "cell_type": "markdown",
   "id": "b9b04589-a72e-4118-8402-39671a5bc454",
   "metadata": {},
   "source": [
    "### 使用GradientBoosting, 特征值为2000\n",
    "**没必要再跑vectorizerization,一起再跑下不容易出错**"
   ]
  },
  {
   "cell_type": "code",
   "execution_count": 15,
   "id": "3bc5ecf4-b165-4a22-ad3e-ba06ed2a406e",
   "metadata": {},
   "outputs": [
    {
     "name": "stdout",
     "output_type": "stream",
     "text": [
      "sensitivity: 0.47\n",
      "\n",
      "specificity: 0.97\n",
      "\n",
      "discrimination: 0.897\n",
      "\n"
     ]
    },
    {
     "data": {
      "text/plain": [
       "['vectorizer.pkl']"
      ]
     },
     "execution_count": 15,
     "metadata": {},
     "output_type": "execute_result"
    }
   ],
   "source": [
    "import pandas as pd\n",
    "from sklearn.model_selection import train_test_split\n",
    "from sklearn.preprocessing import LabelEncoder\n",
    "from sklearn.feature_extraction.text import CountVectorizer\n",
    "from sklearn.ensemble import RandomForestClassifier\n",
    "from sklearn.metrics import classification_report\n",
    "from sklearn.ensemble import GradientBoostingClassifier\n",
    "from xgboost import XGBClassifier\n",
    "from lightgbm import LGBMClassifier\n",
    "import joblib\n",
    "\n",
    "# Feature extraction: Convert observations to features using CountVectorizer\n",
    "\n",
    "vectorizer = TfidfVectorizer(analyzer = \"word\"\n",
    "                                  , max_features=2000\n",
    "                                  #, max_df = 0.95\n",
    "                                  #, min_df = 0.05\n",
    "                                  , dtype = np.float32\n",
    "                                 )\n",
    "\n",
    "\n",
    "X_train = vectorizer.fit_transform(train_data['OBSERVATIONS'])\n",
    "\n",
    "y_train = train_data[\"LABEL\"]\n",
    "\n",
    "\n",
    "\n",
    "X_test = vectorizer.transform(test_data.OBSERVATIONS)\n",
    "y_test = test_data[\"LABEL\"]\n",
    "\n",
    "\n",
    "# Model training: Train a RandomForestClassifier\n",
    "#model = RandomForestClassifier(n_estimators=100, random_state=42)\n",
    "\n",
    "#model.fit(X_train, y_train)\n",
    "\n",
    "\n",
    "model = GradientBoostingClassifier(n_estimators=100, learning_rate=1.0,\n",
    "    max_depth=1, random_state=0).fit(X_train, y_train)\n",
    "\n",
    "#使用LGBM模型\n",
    "#model = LGBMClassifier()\n",
    "model.fit(X_train, y_train)\n",
    "\n",
    "# Model evaluation: Predict on the test set and print the classification report\n",
    "y_pred = model.predict(X_test)\n",
    "#print(classification_report(y_test, y_pred, target_names=label_encoder.classes_))\n",
    "\n",
    "\n",
    "pred_lr_prob_ref = model.predict_proba(X_test)[:,1]\n",
    "pred_lr = model.predict(X_test)\n",
    "\n",
    "conf_mat = confusion_matrix(test_data[\"LABEL\"], pred_lr)\n",
    "\n",
    "pred_pro = model.predict_proba(X_test)[:,1]\n",
    "\n",
    "frp_mi, trp_mi, thres_mi = roc_curve(test_data[\"LABEL\"], pred_pro)\n",
    "\n",
    "auc_val_mi = auc(frp_mi, trp_mi)\n",
    "\n",
    "print(\"sensitivity: \" + str(round(metrics.recall_score(test_data[\"LABEL\"], pred_lr),2)) + '\\n') \n",
    "print(\"specificity: \" + str(round(1-metrics.recall_score(1-test_data[\"LABEL\"], pred_lr),2)) + '\\n') \n",
    "print(\"discrimination: \" + str(round(auc_val_mi,3)) + '\\n') \n",
    "\n",
    "\n",
    "joblib.dump(model, 'model.pkl')\n",
    "joblib.dump(vectorizer, 'vectorizer.pkl')"
   ]
  },
  {
   "cell_type": "code",
   "execution_count": null,
   "id": "7aeb0c5d-ecb0-4bbb-8c14-54cf7cb30008",
   "metadata": {},
   "outputs": [],
   "source": []
  },
  {
   "cell_type": "markdown",
   "id": "37879aec-be55-466f-9369-f280ae1d1a6a",
   "metadata": {},
   "source": [
    "### 使用XGBClassifier, 特征值为2000"
   ]
  },
  {
   "cell_type": "code",
   "execution_count": 16,
   "id": "12baa5c0-5f7b-444a-8677-f8537028a853",
   "metadata": {},
   "outputs": [
    {
     "name": "stdout",
     "output_type": "stream",
     "text": [
      "sensitivity: 0.47\n",
      "\n",
      "specificity: 0.97\n",
      "\n",
      "discrimination: 0.905\n",
      "\n"
     ]
    },
    {
     "data": {
      "text/plain": [
       "['vectorizer.pkl']"
      ]
     },
     "execution_count": 16,
     "metadata": {},
     "output_type": "execute_result"
    }
   ],
   "source": [
    "import pandas as pd\n",
    "from sklearn.model_selection import train_test_split\n",
    "from sklearn.preprocessing import LabelEncoder\n",
    "from sklearn.feature_extraction.text import CountVectorizer\n",
    "from sklearn.ensemble import RandomForestClassifier\n",
    "from sklearn.metrics import classification_report\n",
    "from sklearn.ensemble import GradientBoostingClassifier\n",
    "from xgboost import XGBClassifier\n",
    "from lightgbm import LGBMClassifier\n",
    "import joblib\n",
    "\n",
    "# Feature extraction: Convert observations to features using CountVectorizer\n",
    "\n",
    "vectorizer = TfidfVectorizer(analyzer = \"word\"\n",
    "                                  , max_features=2000\n",
    "                                  #, max_df = 0.95\n",
    "                                  #, min_df = 0.05\n",
    "                                  , dtype = np.float32\n",
    "                                 )\n",
    "\n",
    "\n",
    "X_train = vectorizer.fit_transform(train_data['OBSERVATIONS'])\n",
    "\n",
    "y_train = train_data[\"LABEL\"]\n",
    "\n",
    "\n",
    "\n",
    "X_test = vectorizer.transform(test_data.OBSERVATIONS)\n",
    "y_test = test_data[\"LABEL\"]\n",
    "\n",
    "\n",
    "# Model training: Train a RandomForestClassifier\n",
    "#model = RandomForestClassifier(n_estimators=100, random_state=42)\n",
    "\n",
    "#model.fit(X_train, y_train)\n",
    "\n",
    "\n",
    "#model = GradientBoostingClassifier(n_estimators=100, learning_rate=1.0,\n",
    "#    max_depth=1, random_state=0).fit(X_train, y_train)\n",
    "\n",
    "#使用XGB模型\n",
    "model = XGBClassifier()\n",
    "model.fit(X_train, y_train)\n",
    "\n",
    "# Model evaluation: Predict on the test set and print the classification report\n",
    "y_pred = model.predict(X_test)\n",
    "#print(classification_report(y_test, y_pred, target_names=label_encoder.classes_))\n",
    "\n",
    "\n",
    "pred_lr_prob_ref = model.predict_proba(X_test)[:,1]\n",
    "pred_lr = model.predict(X_test)\n",
    "\n",
    "conf_mat = confusion_matrix(test_data[\"LABEL\"], pred_lr)\n",
    "\n",
    "pred_pro = model.predict_proba(X_test)[:,1]\n",
    "\n",
    "frp_mi, trp_mi, thres_mi = roc_curve(test_data[\"LABEL\"], pred_pro)\n",
    "\n",
    "auc_val_mi = auc(frp_mi, trp_mi)\n",
    "\n",
    "print(\"sensitivity: \" + str(round(metrics.recall_score(test_data[\"LABEL\"], pred_lr),2)) + '\\n') \n",
    "print(\"specificity: \" + str(round(1-metrics.recall_score(1-test_data[\"LABEL\"], pred_lr),2)) + '\\n') \n",
    "print(\"discrimination: \" + str(round(auc_val_mi,3)) + '\\n') \n",
    "\n",
    "\n",
    "joblib.dump(model, 'model.pkl')\n",
    "joblib.dump(vectorizer, 'vectorizer.pkl')"
   ]
  },
  {
   "cell_type": "code",
   "execution_count": null,
   "id": "c464a3e0-ab61-48e1-8993-8c6f7f97cb02",
   "metadata": {},
   "outputs": [],
   "source": []
  }
 ],
 "metadata": {
  "kernelspec": {
   "display_name": "Python 3 (ipykernel)",
   "language": "python",
   "name": "python3"
  },
  "language_info": {
   "codemirror_mode": {
    "name": "ipython",
    "version": 3
   },
   "file_extension": ".py",
   "mimetype": "text/x-python",
   "name": "python",
   "nbconvert_exporter": "python",
   "pygments_lexer": "ipython3",
   "version": "3.8.10"
  }
 },
 "nbformat": 4,
 "nbformat_minor": 5
}
